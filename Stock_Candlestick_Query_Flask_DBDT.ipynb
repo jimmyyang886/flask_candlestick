{
 "cells": [
  {
   "cell_type": "markdown",
   "metadata": {},
   "source": [
    "# Candlestick Chat for Stock"
   ]
  },
  {
   "cell_type": "code",
   "execution_count": null,
   "metadata": {
    "scrolled": true
   },
   "outputs": [
    {
     "name": "stdout",
     "output_type": "stream",
     "text": [
      " * Serving Flask app \"__main__\" (lazy loading)\n",
      " * Environment: production\n",
      "   WARNING: This is a development server. Do not use it in a production deployment.\n",
      "   Use a production WSGI server instead.\n",
      " * Debug mode: off\n"
     ]
    },
    {
     "name": "stderr",
     "output_type": "stream",
     "text": [
      " * Running on http://127.0.0.1:5000/ (Press CTRL+C to quit)\n",
      "127.0.0.1 - - [03/Sep/2020 10:33:03] \"\u001b[31m\u001b[1mGET / HTTP/1.1\u001b[0m\" 400 -\n"
     ]
    },
    {
     "name": "stdout",
     "output_type": "stream",
     "text": [
      "ImmutableMultiDict([])\n"
     ]
    },
    {
     "name": "stderr",
     "output_type": "stream",
     "text": [
      "127.0.0.1 - - [03/Sep/2020 10:33:08] \"\u001b[31m\u001b[1mGET / HTTP/1.1\u001b[0m\" 400 -\n"
     ]
    },
    {
     "name": "stdout",
     "output_type": "stream",
     "text": [
      "ImmutableMultiDict([])\n"
     ]
    },
    {
     "name": "stderr",
     "output_type": "stream",
     "text": [
      "127.0.0.1 - - [03/Sep/2020 10:33:17] \"\u001b[37mGET /results HTTP/1.1\u001b[0m\" 200 -\n"
     ]
    },
    {
     "name": "stdout",
     "output_type": "stream",
     "text": [
      "start load results...\n"
     ]
    },
    {
     "name": "stderr",
     "output_type": "stream",
     "text": [
      "127.0.0.1 - - [03/Sep/2020 10:33:17] \"\u001b[37mGET /static/css/bootstrap.css HTTP/1.1\u001b[0m\" 200 -\n",
      "127.0.0.1 - - [03/Sep/2020 10:33:17] \"\u001b[37mGET /static/css/bootstrap.min.css HTTP/1.1\u001b[0m\" 200 -\n",
      "127.0.0.1 - - [03/Sep/2020 10:33:17] \"\u001b[37mGET /static/js/jquery-3.3.1.min.js HTTP/1.1\u001b[0m\" 200 -\n",
      "127.0.0.1 - - [03/Sep/2020 10:33:20] \"\u001b[37mGET /?sid=1304&start=2020-04-30&end=2020-06-08&ctype=DoubleBot HTTP/1.1\u001b[0m\" 200 -\n",
      "127.0.0.1 - - [03/Sep/2020 10:33:20] \"\u001b[37mGET /static/js/post.js HTTP/1.1\u001b[0m\" 200 -\n"
     ]
    },
    {
     "name": "stdout",
     "output_type": "stream",
     "text": [
      "ImmutableMultiDict([('sid', '1304'), ('start', '2020-04-30'), ('end', '2020-06-08'), ('ctype', 'DoubleBot')])\n"
     ]
    },
    {
     "name": "stderr",
     "output_type": "stream",
     "text": [
      "127.0.0.1 - - [03/Sep/2020 10:33:20] \"\u001b[37mGET /static/js/echarts.min.js HTTP/1.1\u001b[0m\" 200 -\n"
     ]
    },
    {
     "name": "stdout",
     "output_type": "stream",
     "text": [
      "2020-09-03 10:33:21,584 INFO sqlalchemy.engine.base.Engine SHOW VARIABLES LIKE 'sql_mode'\n",
      "2020-09-03 10:33:21,585 INFO sqlalchemy.engine.base.Engine {}\n",
      "2020-09-03 10:33:21,623 INFO sqlalchemy.engine.base.Engine SHOW VARIABLES LIKE 'lower_case_table_names'\n",
      "2020-09-03 10:33:21,624 INFO sqlalchemy.engine.base.Engine {}\n",
      "2020-09-03 10:33:21,631 INFO sqlalchemy.engine.base.Engine SELECT DATABASE()\n",
      "2020-09-03 10:33:21,632 INFO sqlalchemy.engine.base.Engine {}\n",
      "2020-09-03 10:33:21,634 INFO sqlalchemy.engine.base.Engine show collation where `Charset` = 'utf8mb4' and `Collation` = 'utf8mb4_bin'\n",
      "2020-09-03 10:33:21,635 INFO sqlalchemy.engine.base.Engine {}\n",
      "2020-09-03 10:33:21,647 INFO sqlalchemy.engine.base.Engine SELECT CAST('test plain returns' AS CHAR(60)) AS anon_1\n",
      "2020-09-03 10:33:21,647 INFO sqlalchemy.engine.base.Engine {}\n",
      "2020-09-03 10:33:21,650 INFO sqlalchemy.engine.base.Engine SELECT CAST('test unicode returns' AS CHAR(60)) AS anon_1\n",
      "2020-09-03 10:33:21,650 INFO sqlalchemy.engine.base.Engine {}\n",
      "2020-09-03 10:33:21,652 INFO sqlalchemy.engine.base.Engine SELECT CAST('test collated returns' AS CHAR CHARACTER SET utf8mb4) COLLATE utf8mb4_bin AS anon_1\n",
      "2020-09-03 10:33:21,653 INFO sqlalchemy.engine.base.Engine {}\n",
      "2020-09-03 10:33:21,655 INFO sqlalchemy.engine.base.Engine BEGIN (implicit)\n",
      "2020-09-03 10:33:21,656 INFO sqlalchemy.engine.base.Engine BEGIN (implicit)\n",
      "2020-09-03 10:33:21,657 INFO sqlalchemy.engine.base.Engine SELECT transactions.sid AS transactions_sid, transactions.date AS transactions_date, transactions.capacity AS transactions_capacity, transactions.turnover AS transactions_turnover, transactions.open AS transactions_open, transactions.high AS transactions_high, transactions.low AS transactions_low, transactions.close AS transactions_close, transactions.transaction AS transactions_transaction \n",
      "FROM transactions \n",
      "WHERE transactions.sid = %(sid_1)s AND transactions.date BETWEEN %(date_1)s AND %(date_2)s\n",
      "2020-09-03 10:33:21,661 INFO sqlalchemy.engine.base.Engine SELECT transactions.sid AS transactions_sid, transactions.date AS transactions_date, transactions.capacity AS transactions_capacity, transactions.turnover AS transactions_turnover, transactions.open AS transactions_open, transactions.high AS transactions_high, transactions.low AS transactions_low, transactions.close AS transactions_close, transactions.transaction AS transactions_transaction \n",
      "FROM transactions \n",
      "WHERE transactions.sid = %(sid_1)s\n",
      "2020-09-03 10:33:21,662 INFO sqlalchemy.engine.base.Engine {'sid_1': '1304', 'date_1': '2020-04-30', 'date_2': '2020-06-08'}\n",
      "2020-09-03 10:33:21,663 INFO sqlalchemy.engine.base.Engine {'sid_1': '1304'}\n",
      "2020-09-03 10:33:21,689 INFO sqlalchemy.engine.base.Engine ROLLBACK\n"
     ]
    },
    {
     "name": "stderr",
     "output_type": "stream",
     "text": [
      "D:\\anaconda3\\envs\\stockplot\\lib\\site-packages\\pymysql\\cursors.py:170: Warning: (3719, \"'utf8' is currently an alias for the character set UTF8MB3, but will be an alias for UTF8MB4 in a future release. Please consider using UTF8MB4 in order to be unambiguous.\")\n",
      "  result = self._query(query)\n",
      "D:\\anaconda3\\envs\\stockplot\\lib\\site-packages\\pymysql\\cursors.py:170: Warning: (1366, \"Incorrect string value: '\\\\xA5x\\\\xA5_\\\\xBC\\\\xD0...' for column 'VARIABLE_VALUE' at row 1\")\n",
      "  result = self._query(query)\n",
      "127.0.0.1 - - [03/Sep/2020 10:33:21] \"\u001b[37mPOST /Dataset HTTP/1.1\u001b[0m\" 200 -\n"
     ]
    },
    {
     "name": "stdout",
     "output_type": "stream",
     "text": [
      "2020-09-03 10:33:21,830 INFO sqlalchemy.engine.base.Engine ROLLBACK\n"
     ]
    },
    {
     "name": "stderr",
     "output_type": "stream",
     "text": [
      "127.0.0.1 - - [03/Sep/2020 10:33:21] \"\u001b[37mPOST /Kline HTTP/1.1\u001b[0m\" 200 -\n"
     ]
    }
   ],
   "source": [
    "from flask import Flask\n",
    "from flask import render_template, request\n",
    "from flask_sqlalchemy import SQLAlchemy\n",
    "import pymysql\n",
    "#import flask_sqlalchemy\n",
    "import config\n",
    "import os\n",
    "import json\n",
    "from datetime import date, datetime\n",
    "#from flask import jsonify\n",
    "\n",
    "#from sqlalchemy import create_engine\n",
    "#from sqlalchemy.orm import scoped_session, sessionmaker\n",
    "#from sqlalchemy.ext.declarative import declarative_bas\n",
    "\n",
    "\n",
    "import random\n",
    "import datetime\n",
    "import pymysql\n",
    "import pandas as pd\n",
    "\n",
    "from pyecharts import options as opts\n",
    "from pyecharts.charts import Bar\n",
    "from pyecharts.charts import Kline\n",
    "from pyecharts import options as opts\n",
    "#import pyecharts.events as events\n",
    "#from pyecharts_javascripthon.dom import alert\n",
    "\n",
    "app = Flask(__name__)\n",
    "app.config.from_object(config)\n",
    "db = SQLAlchemy(app)\n",
    "\n",
    "db.init_app(app)\n",
    "\n",
    "class transactions(db.Model):\n",
    "    __tablename__ = 'transactions' \n",
    "    sid  = db.Column(db.String(4), primary_key = True)\n",
    "    date = db.Column(db.Date, primary_key =True)\n",
    "    capacity = db.Column(db.Integer)\n",
    "    turnover = db.Column(db.BigInteger)\n",
    "    open = db.Column(db.Float)\n",
    "    high = db.Column(db.Float)\n",
    "    low = db.Column(db.Float)\n",
    "    close = db.Column(db.Float)\n",
    "    transaction = db.Column(db.Integer)\n",
    "    \n",
    "    def __init__(self, sid, date, capacity, turnover, open, high, low, close, transaction):\n",
    "        self.sid = sid\n",
    "        self.city = date\n",
    "        self.addr = capacity\n",
    "        self.pin = turnover\n",
    "        self.open= open\n",
    "        self.high= high\n",
    "        self.low= low\n",
    "        self.close = close\n",
    "        self.transaction= transaction\n",
    "\n",
    "def kline_base(Date, KBar, sid):\n",
    "    kline = Kline()    \n",
    "    kline.add_xaxis(xaxis_data = Date) \n",
    "    kline.add_yaxis(series_name = \"日K線\", \n",
    "                    y_axis = KBar,  \n",
    "                    itemstyle_opts = opts.ItemStyleOpts(color = \"#C23531\",\n",
    "                                                        color0 = \"#00da3c\", \n",
    "                                                        border_color = \"#C23531\", \n",
    "                                                        border_color0 = \"#00da3c\"),\n",
    "                    )\n",
    "    kline.set_series_opts(label_opts=opts.LabelOpts(is_show=False),\n",
    "                             tooltip_opts = opts.TooltipOpts(trigger=\"axis\",\n",
    "                                                             trigger_on = 'click',\n",
    "                                                             axis_pointer_type=\"cross\", \n",
    "                                                             background_color=\"rgba(245, 245, 245, 0.8)\",\n",
    "                                                             border_width=1,\n",
    "                                                             border_color=\"#ccc\",\n",
    "                                                             textstyle_opts=opts.TextStyleOpts(color=\"#000\"), \n",
    "                                                             ),                      \n",
    "                        )\n",
    "    kline.set_global_opts(title_opts = opts.TitleOpts(title = sid, subtitle ='股價'),\n",
    "                              xaxis_opts = opts.AxisOpts(is_scale = True),\n",
    "                              yaxis_opts = opts.AxisOpts(is_scale = True, splitarea_opts = opts.SplitAreaOpts(is_show = True, areastyle_opts = opts.AreaStyleOpts(opacity=1))),    \n",
    "                              datazoom_opts = [opts.DataZoomOpts(type_ = \"inside\"),   \n",
    "                                               opts.DataZoomOpts(is_show=True,  \n",
    "                                                                 type_=\"slider\",),\n",
    "                                               ],\n",
    "                              tooltip_opts = opts.TooltipOpts(trigger=\"axis\",\n",
    "                                                              axis_pointer_type=\"cross\", \n",
    "                                                              background_color=\"rgba(245, 245, 245, 0.8)\",\n",
    "                                                              border_width=1,\n",
    "                                                              border_color=\"#ccc\",\n",
    "                                                              textstyle_opts=opts.TextStyleOpts(color=\"#000\"), \n",
    "                                                              ),\n",
    "                              )\n",
    "\n",
    "    return kline\n",
    "    \n",
    "@app.route('/Kline', methods=['GET', 'POST'])\n",
    "def get_kline_chart():\n",
    "    #connect_mysql()\n",
    "    if request.method == 'POST':\n",
    "        global sid\n",
    "        sid = request.form.get('sid')\n",
    "    query = transactions.query.filter(transactions.sid==sid).all()\n",
    "      \n",
    "    KBar = [] \n",
    "    Date = []\n",
    "     \n",
    "    for _query in query:\n",
    "        Date.append(_query.date)\n",
    "        KBar.append([_query.open, _query.close, _query.low, _query.high])\n",
    "        kline=kline_base(Date, KBar, sid)\n",
    "        #print(_query.date)\n",
    "        #print([_query.open, _query.close, _query.low, _query.high])\n",
    "        #print(kline.dump_options())\n",
    "    return kline.dump_options()\n",
    "\n",
    "@app.route(\"/\", methods=['GET', 'POST'])\n",
    "def index():\n",
    "    if request.method == 'GET':\n",
    "        args = request.args\n",
    "        print(args)\n",
    "        \n",
    "    return render_template(\"index.html\", sid=args[\"sid\"], start=args[\"start\"], end=args[\"end\"], ctype=args[\"ctype\"])\n",
    "\n",
    "# @app.route(\"/results\", methods=['GET', 'POST'])\n",
    "# def results():\n",
    "#     return render_template(\"results.html\")\n",
    "\n",
    "@app.route(\"/results\", methods=['GET', 'POST'])\n",
    "def get_results():\n",
    "    print('start load results...')\n",
    "    jsonpath = './results'\n",
    "    DB_dict=json.load((open((jsonpath+'/'+'DBinfo.json'))))\n",
    "    DT_dict=json.load((open((jsonpath+'/'+'DTinfo.json'))))\n",
    "\n",
    "    data=[]\n",
    "    for sid, v in DB_dict.items():\n",
    "        for _v in v:\n",
    "            score, start, end =_v['score'], _v['TI'][0],  _v['TI'][1]            \n",
    "            #print(sid, start, end)\n",
    "            data.append({'sid':sid, 'start':start, 'end':end, 'score': round(score,3),'ctype':'DoubleBot'})\n",
    "            \n",
    "    for sid, v in DT_dict.items():\n",
    "        for _v in v:\n",
    "            score, start, end =_v['score'], _v['TI'][0],  _v['TI'][1]            \n",
    "            data.append({'sid':sid, 'start':start, 'end':end, 'score': round(score,3), 'ctype':'DoubleTop'})\n",
    "    #print(data)       \n",
    "    \n",
    "    return render_template('results.html', records=data, colnames=['sid', 'start', 'end', 'score', 'ctype'])\n",
    "\n",
    "@app.route('/Dataset', methods=['GET', 'POST'])\n",
    "def get_dataset():\n",
    "    if request.method == 'POST':\n",
    "        #sid = request.form.get('sid')\n",
    "        start = request.form.get('start')\n",
    "        end =  request.form.get('end')\n",
    "        ctype =  request.form.get('classtype')\n",
    "    query = transactions.query.filter(transactions.sid==sid).filter(transactions.date.between(start, end)).all()\n",
    "\n",
    "    KBar = [] \n",
    "    Date = []\n",
    "    \n",
    "    for _query in query:\n",
    "        Date.append(_query.date)\n",
    "        KBar.append([_query.open, _query.close, _query.low, _query.high])\n",
    "        kline=kline_base(Date, KBar, sid)\n",
    "    \n",
    "    #save json file        \n",
    "    jsonpath='dataset'\n",
    "    \n",
    "    if not os.path.exists(jsonpath):\n",
    "        os.mkdir(jsonpath)\n",
    "        \n",
    "    date=[_date.strftime('%Y-%m-%d') for _date in Date]\n",
    "\n",
    "    dataset={\"sID\":sid, 'Date':date, 'KBar':KBar,\"ctype\":ctype}\n",
    "    #print(dataset)\n",
    "    \n",
    "    #filename='{}_{}_{}_{}.json'.format(sid, start, end, ctype)\n",
    "    #print(filename)\n",
    "#     with open(jsonpath+'/'+filename, 'w') as f:\n",
    "#         json.dump(dataset, f)\n",
    "    return kline.dump_options()  \n",
    "        \n",
    "if __name__ == '__main__':   \n",
    "    #app.run(debug=True)\n",
    "    app.run()"
   ]
  },
  {
   "cell_type": "code",
   "execution_count": null,
   "metadata": {},
   "outputs": [],
   "source": [
    "\n"
   ]
  },
  {
   "cell_type": "code",
   "execution_count": null,
   "metadata": {},
   "outputs": [],
   "source": []
  },
  {
   "cell_type": "code",
   "execution_count": null,
   "metadata": {},
   "outputs": [],
   "source": []
  }
 ],
 "metadata": {
  "kernelspec": {
   "display_name": "Python 3",
   "language": "python",
   "name": "python3"
  },
  "language_info": {
   "codemirror_mode": {
    "name": "ipython",
    "version": 3
   },
   "file_extension": ".py",
   "mimetype": "text/x-python",
   "name": "python",
   "nbconvert_exporter": "python",
   "pygments_lexer": "ipython3",
   "version": "3.7.7"
  }
 },
 "nbformat": 4,
 "nbformat_minor": 4
}
